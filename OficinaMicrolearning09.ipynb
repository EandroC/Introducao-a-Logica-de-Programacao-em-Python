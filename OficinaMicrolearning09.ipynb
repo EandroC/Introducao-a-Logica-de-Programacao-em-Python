{
 "cells": [
  {
   "cell_type": "code",
   "execution_count": null,
   "id": "3e04a8c0",
   "metadata": {},
   "outputs": [],
   "source": [
    "\"\"\"\n",
    "1. Quais produtos são oferecidos em ao menos uma loja?\n",
    "\n",
    "2. Quais produtos são oferecidos em todas as lojas?\n",
    "\n",
    "3. Quais produtos não são encontrados em nenhuma loja?\n",
    "\n",
    "4. Quais produtos são exclusivos de cada loja?\n",
    "\n",
    "5. Se for possível escolher duas lojas para cobrir o maior número de presentes, qual é a quantidade de presentes possíveis para\n",
    "cobrir dessa forma?\n",
    "\n",
    "Com base no que você aprendeu durante os seus estudos, para esta oficina, você deve desenvolver um programa que calcule e imprima\n",
    "as respostas para essas perguntas.\n",
    "\n",
    "\"\"\""
   ]
  },
  {
   "cell_type": "code",
   "execution_count": null,
   "id": "a5d3e238",
   "metadata": {},
   "outputs": [],
   "source": [
    "def produtosDisponiveis():\n",
    "    listaLojas = [loja1,loja2,loja3,loja4]\n",
    "    produtosDisponiveis = set()\n",
    "    \n",
    "    for i in range(0, len(listaLojas)):\n",
    "        produtosDisponiveis.update(presentes.intersection(listaLojas[i]))\n",
    "    return produtosDisponiveis"
   ]
  },
  {
   "cell_type": "code",
   "execution_count": null,
   "id": "a410e12d",
   "metadata": {},
   "outputs": [],
   "source": [
    "def produtosComuns():\n",
    "    listaLojas = [loja2,loja3,loja4]\n",
    "    produtos = set()\n",
    "    cont = 0\n",
    "    \n",
    "    for produto in loja1:\n",
    "        for i in range(0, len(listaLojas)):\n",
    "            if produto in listaLojas[i]:\n",
    "                cont +=1\n",
    "        if cont==len(listaLojas):\n",
    "            produtos.add(produto)\n",
    "        cont=0\n",
    "    \n",
    "    print(\"Os produtos encontrados em todas as lojas são:\", produtos)"
   ]
  },
  {
   "cell_type": "code",
   "execution_count": null,
   "id": "908578b3",
   "metadata": {},
   "outputs": [],
   "source": [
    "def produtosIndisponiveis():\n",
    "    produtosOfertados = produtosDisponiveis()\n",
    "    \n",
    "    produtos = presentes.difference(produtosOfertados)\n",
    "    print(\"Esses produtos não estão disponíveis em nenhuma das lojas:\", produtos)"
   ]
  },
  {
   "cell_type": "code",
   "execution_count": null,
   "id": "ae7a1121",
   "metadata": {},
   "outputs": [],
   "source": [
    "def produtosExclusivos():\n",
    "    listaLojas = [loja1,loja2,loja3,loja4]\n",
    "    \n",
    "    for i in range(0, len(listaLojas)):\n",
    "        exclusivo = set(listaLojas[i])\n",
    "        \n",
    "        for n in range(len(listaLojas)-1,-1,-1):\n",
    "            if i!=n:\n",
    "                exclusivo=exclusivo.difference(listaLojas[n])\n",
    "        if(len(exclusivo)==0):\n",
    "            print(\"A loja\",i+1,\"não possui produtos exclusivos.\")\n",
    "        else:\n",
    "            print(\"Os produtos exclusivos da loja\",i+1,\"são: \", exclusivo)\n",
    "        exclusivo = set()"
   ]
  },
  {
   "cell_type": "code",
   "execution_count": null,
   "id": "0d75892e",
   "metadata": {},
   "outputs": [],
   "source": [
    "def melhorCombinacao():\n",
    "    listaLojas = [loja1,loja2,loja3,loja4]\n",
    "    maiorCombinacao = []\n",
    "    maior =int(0)\n",
    "\n",
    "    for i in range(0, len(listaLojas)-1):\n",
    "        for n in range(i, len(listaLojas)):\n",
    "            if i<n:\n",
    "                combinacao = set(listaLojas[i])\n",
    "                combinacao.update(listaLojas[n])\n",
    "                if len(combinacao)>maior:\n",
    "                    maior = len(combinacao)   \n",
    "                    maiorCombinacao.extend([len(combinacao), i+1, n+1])\n",
    "                combinacao = set()\n",
    "    print(\"A melhor combinação é entre loja{} e loja{} com {} produtos\".format(maiorCombinacao[1],maiorCombinacao[2],maiorCombinacao[0]))"
   ]
  },
  {
   "cell_type": "code",
   "execution_count": null,
   "id": "cd73712e",
   "metadata": {},
   "outputs": [],
   "source": [
    "def digite():\n",
    "    opcao= 0\n",
    "    opcao = input(\"\\nDigite a opção desejada: \")\n",
    "    try: \n",
    "        return int(opcao)\n",
    "    except ValueError as err:\n",
    "        print(\"Opção inválida:\")\n",
    "    return digite()"
   ]
  },
  {
   "cell_type": "code",
   "execution_count": null,
   "id": "fb8f61a9",
   "metadata": {},
   "outputs": [],
   "source": [
    "def saidaDados():\n",
    "    \n",
    "    print(\n",
    "    \"\"\"Digite o número da pergunta que você deseja que seja respondida:\n",
    "    1. Quais produtos são oferecidos em ao menos uma loja?\n",
    "    2. Quais produtos são oferecidos em todas as lojas?\n",
    "    3. Quais produtos não são encontrados em nenhuma loja?\n",
    "    4. Quais produtos são exclusivos de cada loja?\n",
    "    5. Se for possível escolher duas lojas pra cobrir um número maior de presentes, qual é o maior número de presentes que é \n",
    "       possível cobrir dessa forma?\"\"\"\n",
    "     )\n",
    "    \n",
    "    continua = 's'\n",
    "    \n",
    "    while (continua == 's'):\n",
    "        opcao = digite()\n",
    "        if opcao == 1:\n",
    "            produtos = produtosDisponiveis()\n",
    "            print(\"Os produtos encontrados em pelo menos uma dessas lojas são:\", produtos)\n",
    "        elif opcao == 2:\n",
    "            produtosComuns()\n",
    "        elif opcao == 3:\n",
    "            produtosIndisponiveis()\n",
    "        elif opcao == 4:\n",
    "            produtosExclusivos()\n",
    "        elif opcao == 5:\n",
    "            melhorCombinacao()\n",
    "        else:\n",
    "            print(\"Opção inválida.\\n Digite 1, 2, 3, 4 ou 5\")\n",
    "        continua = input(\"\\nSe deseja continuar digite 'S': \")\n",
    "        if continua != \"s\":\n",
    "            break"
   ]
  },
  {
   "cell_type": "code",
   "execution_count": null,
   "id": "f771b41b",
   "metadata": {},
   "outputs": [],
   "source": [
    "\n",
    "presentes = {\n",
    "    'cadeira', 'cafeteira', 'caneca', 'escumadeira',\n",
    "    'espanador', 'espátula', 'estante', 'faqueiro',\n",
    "    'frigideira', 'funil', 'halter', 'liquidificador',\n",
    "    'notebook', 'panela', 'peneira', 'playstation',\n",
    "    'rádio', 'smartphone', 'sofá', 'tablet', 'teclado',\n",
    "    'televisão', 'vassoura', 'webcam', 'xbox',\n",
    "}\n",
    "\n",
    "loja1 = {\n",
    "    'cadeira', 'cafeteira', 'caneca', 'escumadeira', 'estante',\n",
    "'frigideira', 'funil', 'liquidificador', 'notebook', 'panela',\n",
    "    'playstation', 'smartphone', 'teclado', 'televisão'}\n",
    "loja2 = {\n",
    "    'cafeteira', 'escumadeira', 'espanador', 'frigideira', 'funil',\n",
    "    'halter', 'peneira', 'playstation', 'sofá', 'tablet', 'televisão',\n",
    "    'vassoura', 'webcam', 'xbox'}\n",
    "loja3 = {\n",
    "    'caneca', 'escumadeira', 'espanador', 'espátula', 'estante',\n",
    "    'frigideira', 'halter', 'playstation', 'rádio', 'smartphone',\n",
    "    'sofá', 'teclado', 'televisão', 'vassoura', 'xbox'}\n",
    "loja4 = {\n",
    "    'caneca', 'escumadeira', 'espanador', 'espátula', 'estante',\n",
    "    'frigideira', 'halter', 'playstation', 'rádio', 'smartphone',\n",
    "    'sofá', 'teclado', 'televisão', 'vassoura', 'xbox'}\n",
    "    \n",
    "saidaDados()"
   ]
  }
 ],
 "metadata": {
  "kernelspec": {
   "display_name": "Python 3 (ipykernel)",
   "language": "python",
   "name": "python3"
  },
  "language_info": {
   "codemirror_mode": {
    "name": "ipython",
    "version": 3
   },
   "file_extension": ".py",
   "mimetype": "text/x-python",
   "name": "python",
   "nbconvert_exporter": "python",
   "pygments_lexer": "ipython3",
   "version": "3.9.13"
  }
 },
 "nbformat": 4,
 "nbformat_minor": 5
}
