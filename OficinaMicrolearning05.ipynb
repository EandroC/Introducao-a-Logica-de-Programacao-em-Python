{
 "cells": [
  {
   "cell_type": "code",
   "execution_count": 1,
   "id": "0b6245c0",
   "metadata": {},
   "outputs": [],
   "source": [
    "\"\"\"\n",
    "Analise a seguinte situação: um número X é primo se, para todo número N entre 2 e X – 1, o resto da divisão entre X e N for \n",
    "diferente de 0.\n",
    "Seguindo essa lógica, desenvolva um notebook Jupyter com um programa Python que apresente textualmente todos os números primos\n",
    "entre 2 e 100 (incluindo o valor 100). Com isso, seu programa deve percorrer todos os números nesse intervalo e testar \n",
    "individualmente cada um, vendo se ele é primo ou não. Caso o número seja primo, você deve imprimir o valor em tela. Caso não \n",
    "seja, deve simplesmente ignorá-lo.\n",
    "\n",
    "\"\"\"\n",
    "numerosPrimos = []\n",
    "primo = True\n"
   ]
  },
  {
   "cell_type": "code",
   "execution_count": 2,
   "id": "a41200a4",
   "metadata": {},
   "outputs": [],
   "source": [
    "for x in range (2, 101):\n",
    "    for n in range(2, x):\n",
    "        if x%n == 0:\n",
    "            primo = False\n",
    "            break        \n",
    "    if primo == True:\n",
    "        numerosPrimos.append(x)\n",
    "    primo = True\n"
   ]
  },
  {
   "cell_type": "code",
   "execution_count": 3,
   "id": "a49a57e3",
   "metadata": {},
   "outputs": [
    {
     "name": "stdout",
     "output_type": "stream",
     "text": [
      "Os números primos entre 1 e 100 são: [2, 3, 5, 7, 11, 13, 17, 19, 23, 29, 31, 37, 41, 43, 47, 53, 59, 61, 67, 71, 73, 79, 83, 89, 97]\n"
     ]
    }
   ],
   "source": [
    "print(\"Os números primos entre 1 e 100 são:\",(numerosPrimos))"
   ]
  },
  {
   "cell_type": "code",
   "execution_count": null,
   "id": "e2022a11",
   "metadata": {},
   "outputs": [],
   "source": []
  }
 ],
 "metadata": {
  "kernelspec": {
   "display_name": "Python 3 (ipykernel)",
   "language": "python",
   "name": "python3"
  },
  "language_info": {
   "codemirror_mode": {
    "name": "ipython",
    "version": 3
   },
   "file_extension": ".py",
   "mimetype": "text/x-python",
   "name": "python",
   "nbconvert_exporter": "python",
   "pygments_lexer": "ipython3",
   "version": "3.9.13"
  }
 },
 "nbformat": 4,
 "nbformat_minor": 5
}
