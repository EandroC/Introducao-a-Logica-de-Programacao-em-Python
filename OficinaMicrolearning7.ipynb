{
 "cells": [
  {
   "cell_type": "code",
   "execution_count": null,
   "id": "bf0f62a9",
   "metadata": {},
   "outputs": [],
   "source": [
    "\"\"\"Descubra quais foram os resultados da pesquisa, você tem que construir um programa que apresente o número total e a \n",
    "porcentagem de votos para cada um dos cursos. Além disso, você deve apresentar qual curso foi o escolhido pela votação.\"\"\""
   ]
  },
  {
   "cell_type": "code",
   "execution_count": null,
   "id": "3ff408ad",
   "metadata": {},
   "outputs": [],
   "source": [
    "def resultadoVotos(respostas):\n",
    "    resultado = [0,0,0\n",
    "    ]\n",
    "    for i in range(0, len(respostas)):\n",
    "        if respostas[i] == 0:\n",
    "            resultado[0] += 1\n",
    "\n",
    "        elif respostas[i] == 1:\n",
    "            resultado[1] += 1\n",
    "        else:\n",
    "            resultado[2] += 1\n",
    "    \n",
    "    return resultado"
   ]
  },
  {
   "cell_type": "code",
   "execution_count": null,
   "id": "8c03f1ee",
   "metadata": {},
   "outputs": [],
   "source": [
    "def maisVotado(resultado):\n",
    "    \n",
    "    cursoEscolhido = \"\"\n",
    "    \n",
    "    if resultado[0] == max(resultado):\n",
    "        cursoEscolhido = cursos[0]\n",
    "    \n",
    "    elif resultado[1] == max(resultado):\n",
    "        cursoEscolhido = cursos[1]\n",
    "\n",
    "    else:\n",
    "        cursoEscolhido = cursos[2]\n",
    "     \n",
    "    return cursoEscolhido"
   ]
  },
  {
   "cell_type": "code",
   "execution_count": null,
   "id": "d9643c81",
   "metadata": {},
   "outputs": [],
   "source": [
    "def porcentagem(resultado):\n",
    "    resultadoPorcentagem = []\n",
    "    for i in range(0,len(resultado)):\n",
    "        resultadoPorcentagem.insert(i,(resultado[i] *100)/sum(resultado))\n",
    "    \n",
    "    return resultadoPorcentagem"
   ]
  },
  {
   "cell_type": "code",
   "execution_count": null,
   "id": "1504647f",
   "metadata": {},
   "outputs": [],
   "source": [
    "def saidaDados(cursos,resultado, cursoEscolhido, resultadoPorcentagem):\n",
    "    print(\"FORAM {} VOTOS NO TOTAL:\".format(sum(resultado)))\n",
    "    for i in range(0,len(resultado)):\n",
    "        print(cursos[i],\": \",resultadoPorcentagem[i],\"%\",\"({} votos)\".format(resultado[i]))\n",
    "    print(\"\\n -> O curso mais votado foi: \"+cursoEscolhido)"
   ]
  },
  {
   "cell_type": "code",
   "execution_count": null,
   "id": "5b0ce7fd",
   "metadata": {},
   "outputs": [],
   "source": [
    "cursos = [\n",
    "  'Engenharia de Software',\n",
    "  'Python para Data Science',\n",
    "  'Introdução a Java'\n",
    "]\n",
    "\n",
    "respostas = [1, 2, 0, 1, 1, 1, 1, 0, 0, 2, 2, 0, 1, 1,\n",
    "  1, 1, 2, 0, 1, 1, 0, 1, 0, 2, 1, 1, 0, 2,\n",
    "  2, 1, 0, 1, 1, 0, 0, 0, 1, 1, 2, 1\n",
    "]\n",
    "\n",
    "resultado = resultadoVotos(respostas)\n",
    "cursoEscolhido = maisVotado(resultado)\n",
    "resultadoPorcentagem = porcentagem(resultado)\n",
    "\n",
    "saidaDados(cursos,resultado,cursoEscolhido,resultadoPorcentagem)"
   ]
  },
  {
   "cell_type": "code",
   "execution_count": null,
   "id": "e6c919cc",
   "metadata": {},
   "outputs": [],
   "source": []
  }
 ],
 "metadata": {
  "kernelspec": {
   "display_name": "Python 3 (ipykernel)",
   "language": "python",
   "name": "python3"
  },
  "language_info": {
   "codemirror_mode": {
    "name": "ipython",
    "version": 3
   },
   "file_extension": ".py",
   "mimetype": "text/x-python",
   "name": "python",
   "nbconvert_exporter": "python",
   "pygments_lexer": "ipython3",
   "version": "3.9.13"
  }
 },
 "nbformat": 4,
 "nbformat_minor": 5
}
