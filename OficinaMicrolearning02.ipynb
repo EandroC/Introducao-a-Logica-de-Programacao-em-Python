{
 "cells": [
  {
   "cell_type": "code",
   "execution_count": 24,
   "id": "4d5963b6",
   "metadata": {},
   "outputs": [
    {
     "name": "stdout",
     "output_type": "stream",
     "text": [
      "Digite seu nome:Eandro\n",
      "Digite sua idade:26\n",
      "Digite seu peso:59.20\n",
      "Digite sua altura:1.75\n"
     ]
    }
   ],
   "source": [
    "\"\"\"\n",
    "Introdução à Lógica de Programação em Python - LeadDell\n",
    "Aula 1.2: Atribuindo valores a variáveis corretamente - Oficina Microlearning 2\n",
    "\n",
    "Nesta oficina, você deve construir um programa Python que faz a leitura do nome, da idade, do peso e da altura de uma pessoa,\n",
    "e calcula o Índice de Massa Corporal (IMC) dela.\n",
    "\n",
    "\"\"\"\n",
    "nome = input(\"Digite seu nome:\")\n",
    "idade = int(input(\"Digite sua idade:\"))\n",
    "peso = float(input(\"Digite seu peso:\"))\n",
    "altura = float(input(\"Digite sua altura:\"))"
   ]
  },
  {
   "cell_type": "code",
   "execution_count": 25,
   "id": "4ccc6314",
   "metadata": {},
   "outputs": [],
   "source": [
    "altura_ao_quadrado =altura**2\n",
    "imc = round(peso / altura_ao_quadrado, 2)"
   ]
  },
  {
   "cell_type": "code",
   "execution_count": 26,
   "id": "70d35b5c",
   "metadata": {},
   "outputs": [
    {
     "name": "stdout",
     "output_type": "stream",
     "text": [
      "Olá Eandro, seu IMC é: 19.33\n"
     ]
    }
   ],
   "source": [
    "print(\"Olá \"+nome+\", seu IMC é:\",imc)"
   ]
  },
  {
   "cell_type": "code",
   "execution_count": 27,
   "id": "4dbd559a",
   "metadata": {},
   "outputs": [
    {
     "name": "stdout",
     "output_type": "stream",
     "text": [
      "Olá Eandro, seu IMC é: 19.33\n"
     ]
    }
   ],
   "source": [
    "\"\"\"\n",
    "\n",
    "DESAFIO: foi discutido em aula como converter de uma string, ou seja, o tipo str, para um float. \n",
    "Como fazer o caminho inverso? converter de um float para str? Reflita um pouco e tente não só apresentar o valor numérico \n",
    "como escrever algum texto que auxilie a leitura do usuário.\n",
    "\n",
    "\"\"\"\n",
    "imc = str(imc)\n",
    "print(\"Olá \"+nome+\", seu IMC é: \"+imc)"
   ]
  },
  {
   "cell_type": "code",
   "execution_count": null,
   "id": "5e9f1da0",
   "metadata": {},
   "outputs": [],
   "source": []
  }
 ],
 "metadata": {
  "kernelspec": {
   "display_name": "Python 3 (ipykernel)",
   "language": "python",
   "name": "python3"
  },
  "language_info": {
   "codemirror_mode": {
    "name": "ipython",
    "version": 3
   },
   "file_extension": ".py",
   "mimetype": "text/x-python",
   "name": "python",
   "nbconvert_exporter": "python",
   "pygments_lexer": "ipython3",
   "version": "3.9.13"
  }
 },
 "nbformat": 4,
 "nbformat_minor": 5
}
