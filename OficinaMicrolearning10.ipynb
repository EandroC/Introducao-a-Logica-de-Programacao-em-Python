{
 "cells": [
  {
   "cell_type": "code",
   "execution_count": null,
   "id": "77e8396c",
   "metadata": {},
   "outputs": [],
   "source": [
    "\"\"\"\n",
    "Imagine que você foi contratado para construir o sistema de gerenciamento de uma livraria e é o responsável por criar\n",
    "um módulo/célula, que fará a leitura dos dados de livros, que serão título, gênero, subgênero, editora, número de cópias\n",
    "em loja e valor em reais. Além disso, você também é o responsável pelo módulo de apresentação dos livros disponíveis em loja,\n",
    "de acordo com a seguinte organização: ao apresentar todos os livros disponíveis, eles devem ser separados, primeiro, por gênero\n",
    "e depois por subgênero.\n",
    "\"\"\""
   ]
  },
  {
   "cell_type": "code",
   "execution_count": null,
   "id": "3d02d001",
   "metadata": {},
   "outputs": [],
   "source": [
    "livraria = {}\n",
    "\n",
    "ficcaoCientifica={}\n",
    "fantasia = {}\n",
    "\n",
    "livraria[\"Ficção Científica\"] = ficcaoCientifica\n",
    "livraria[\"Fantasia\"] = fantasia\n",
    "\n",
    "romance = {}\n",
    "distopia = {}\n",
    "infantil = {}\n",
    "aventura = {}\n",
    "\n",
    "ficcaoCientifica[\"Romance\"] = romance\n",
    "ficcaoCientifica[\"Distopia\"] = distopia\n",
    "fantasia[\"Infantil\"] = infantil\n",
    "fantasia[\"Aventura\"] = aventura\n",
    "\n",
    "romance[\"O Nome do Vento\"] = {\"Título\": \"O Nome do Vento\", \"Gênero\": \"Ficção Científica\",\"Subgênero\":\"Romance\", \"Editora\":\"Arqueiro\",\"Número de Cópias\":9, \"Valor em Reais\": 55.00}\n",
    "\n",
    "romance[\"Duna\"] = {\"Título\": \"Duna\", \"Gênero\": \"Ficção Científica\",\"Subgênero\":\"aventura\", \"Editora\":\"Intrínseca\",\"Número de Cópias\":5, \"Valor em Reais\": 45.00}\n",
    "\n",
    "distopia[\"1984\"] = {\"Título\": \"1984\", \"Gênero\": \"Ficção Científica\",\"Subgênero\":\"Distopia\", \"Editora\":\"Companhia da Letras\",\"Número de Cópias\":3, \"Valor em Reais\": 30.00}\n",
    "\n",
    "infantil[\"Alice no Pais das Maravilhas\"] = {\"Título\": \"Alice no País das Maravilhas\", \"Gênero\": \"Fantasia\", \"Subgênero\":\"Infantil\",\"Editora\":\"Editora Infantil e Juvenil\",\"Número de Cópias\":2, \"Valor em Reais\": 40.00}\n",
    "\n",
    "aventura[\"Senhor dos Anéis\"] = {\"Título\": \"Senhor dos Anéis: A Sociedade do Anel\", \"Gênero\": \"Fantasia\",\"Subgênero\":\"Aventura\",\"Editora\":\"Happercollins\",\"Número de Cópias\":7, \"Valor em Reais\": 60.00}\n",
    "\n",
    "aventura[\"O Jogo dos Tronos\"] = {\"Título\": \"O Jogo dos Tronos\", \"Gênero\": \"Fantasia\", \"Subgênero\":\"Aventura\", \"Editora\":\"Suma\",\"Número de Cópias\":1, \"Valor em Reais\": 65.00}\n"
   ]
  },
  {
   "cell_type": "code",
   "execution_count": null,
   "id": "423b0569",
   "metadata": {},
   "outputs": [],
   "source": [
    "for genero, subgeneros in sorted(livraria.items()):\n",
    "    cont = 0\n",
    "    print(genero, ':\\n')\n",
    "    for subgenero, livros in sorted(subgeneros.items()):\n",
    "        print(subgenero, ' :\\n ')\n",
    "        for livro, dados in livros.items():\n",
    "            #print(livro, ' :\\n ')\n",
    "            cont=0\n",
    "            for nomeDado, dado in sorted(dados.items(), key=lambda dado: int(dados[\"Número de Cópias\"])):\n",
    "               if cont < 1:\n",
    "                    print(dados[\"Título\"])\n",
    "                    print(dados,\"\\n\")\n",
    "                    cont+=1\n",
    "            "
   ]
  },
  {
   "cell_type": "code",
   "execution_count": null,
   "id": "27aaa1da",
   "metadata": {},
   "outputs": [],
   "source": []
  }
 ],
 "metadata": {
  "kernelspec": {
   "display_name": "Python 3 (ipykernel)",
   "language": "python",
   "name": "python3"
  },
  "language_info": {
   "codemirror_mode": {
    "name": "ipython",
    "version": 3
   },
   "file_extension": ".py",
   "mimetype": "text/x-python",
   "name": "python",
   "nbconvert_exporter": "python",
   "pygments_lexer": "ipython3",
   "version": "3.9.13"
  }
 },
 "nbformat": 4,
 "nbformat_minor": 5
}
